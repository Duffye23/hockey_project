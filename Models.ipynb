{
 "cells": [
  {
   "cell_type": "code",
   "execution_count": 1,
   "metadata": {},
   "outputs": [],
   "source": [
    "import pandas as pd\n",
    "import numpy as np\n",
    "from pymongo import MongoClient\n",
    "from sklearn.model_selection import train_test_split\n",
    "from sklearn.preprocessing import StandardScaler\n",
    "import pandas as pd\n",
    "import tensorflow as tf\n",
    "import matplotlib.pyplot as plt\n",
    "from sklearn.linear_model import LinearRegression\n",
    "from sklearn.ensemble import RandomForestClassifier\n",
    "from sklearn.metrics import confusion_matrix, accuracy_score, classification_report\n",
    "from sklearn.metrics import mean_squared_error, r2_score"
   ]
  },
  {
   "cell_type": "code",
   "execution_count": 66,
   "metadata": {},
   "outputs": [
    {
     "data": {
      "text/plain": [
       "['2022-2023', '2023-2024']"
      ]
     },
     "execution_count": 66,
     "metadata": {},
     "output_type": "execute_result"
    }
   ],
   "source": [
    "#Createing the connection to the database part 1\n",
    "mongo = MongoClient(port=27017)\n",
    "db = mongo['hockey_project_db']\n",
    "db.list_collection_names()"
   ]
  },
  {
   "cell_type": "code",
   "execution_count": 67,
   "metadata": {},
   "outputs": [],
   "source": [
    "#creating connections part 2: putting it into a dataframe\n",
    "data_2022_2023 = db['2022-2023']\n",
    "answer = list(data_2022_2023.find({}))\n",
    "df_2022 = pd.json_normalize(answer)"
   ]
  },
  {
   "cell_type": "code",
   "execution_count": 68,
   "metadata": {},
   "outputs": [
    {
     "data": {
      "text/html": [
       "<div>\n",
       "<style scoped>\n",
       "    .dataframe tbody tr th:only-of-type {\n",
       "        vertical-align: middle;\n",
       "    }\n",
       "\n",
       "    .dataframe tbody tr th {\n",
       "        vertical-align: top;\n",
       "    }\n",
       "\n",
       "    .dataframe thead th {\n",
       "        text-align: right;\n",
       "    }\n",
       "</style>\n",
       "<table border=\"1\" class=\"dataframe\">\n",
       "  <thead>\n",
       "    <tr style=\"text-align: right;\">\n",
       "      <th></th>\n",
       "      <th>_id</th>\n",
       "      <th></th>\n",
       "      <th>playerId</th>\n",
       "      <th>season</th>\n",
       "      <th>name</th>\n",
       "      <th>team</th>\n",
       "      <th>position</th>\n",
       "      <th>situation</th>\n",
       "      <th>games_played</th>\n",
       "      <th>minutes/game</th>\n",
       "      <th>...</th>\n",
       "      <th>I_F_mediumDangerShots</th>\n",
       "      <th>I_F_highDangerShots</th>\n",
       "      <th>I_F_lowDangerxGoals</th>\n",
       "      <th>I_F_mediumDangerxGoals</th>\n",
       "      <th>I_F_highDangerxGoals</th>\n",
       "      <th>I_F_lowDangerGoals</th>\n",
       "      <th>I_F_mediumDangerGoals</th>\n",
       "      <th>I_F_highDangerGoals</th>\n",
       "      <th>I_F_unblockedShotAttempts</th>\n",
       "      <th>Line_or_Pair</th>\n",
       "    </tr>\n",
       "  </thead>\n",
       "  <tbody>\n",
       "    <tr>\n",
       "      <th>0</th>\n",
       "      <td>65a0837f1824a1bb36f2b6dd</td>\n",
       "      <td>0</td>\n",
       "      <td>8471817</td>\n",
       "      <td>2022</td>\n",
       "      <td>Ryan Reaves</td>\n",
       "      <td>MIN</td>\n",
       "      <td>R</td>\n",
       "      <td>all</td>\n",
       "      <td>73</td>\n",
       "      <td>9.32</td>\n",
       "      <td>...</td>\n",
       "      <td>29</td>\n",
       "      <td>7</td>\n",
       "      <td>1.16</td>\n",
       "      <td>3.58</td>\n",
       "      <td>1.96</td>\n",
       "      <td>0</td>\n",
       "      <td>4</td>\n",
       "      <td>1</td>\n",
       "      <td>69</td>\n",
       "      <td>3rd line</td>\n",
       "    </tr>\n",
       "    <tr>\n",
       "      <th>1</th>\n",
       "      <td>65a0837f1824a1bb36f2b6de</td>\n",
       "      <td>1</td>\n",
       "      <td>8480950</td>\n",
       "      <td>2022</td>\n",
       "      <td>Ilya Lyubushkin</td>\n",
       "      <td>BUF</td>\n",
       "      <td>D</td>\n",
       "      <td>all</td>\n",
       "      <td>68</td>\n",
       "      <td>15.01</td>\n",
       "      <td>...</td>\n",
       "      <td>2</td>\n",
       "      <td>0</td>\n",
       "      <td>1.09</td>\n",
       "      <td>0.28</td>\n",
       "      <td>0.00</td>\n",
       "      <td>1</td>\n",
       "      <td>1</td>\n",
       "      <td>0</td>\n",
       "      <td>52</td>\n",
       "      <td>3rd pair</td>\n",
       "    </tr>\n",
       "    <tr>\n",
       "      <th>2</th>\n",
       "      <td>65a0837f1824a1bb36f2b6df</td>\n",
       "      <td>2</td>\n",
       "      <td>8475625</td>\n",
       "      <td>2022</td>\n",
       "      <td>Matt Irwin</td>\n",
       "      <td>WSH</td>\n",
       "      <td>D</td>\n",
       "      <td>all</td>\n",
       "      <td>61</td>\n",
       "      <td>13.04</td>\n",
       "      <td>...</td>\n",
       "      <td>5</td>\n",
       "      <td>0</td>\n",
       "      <td>1.98</td>\n",
       "      <td>0.46</td>\n",
       "      <td>0.00</td>\n",
       "      <td>2</td>\n",
       "      <td>0</td>\n",
       "      <td>0</td>\n",
       "      <td>102</td>\n",
       "      <td>3rd pair</td>\n",
       "    </tr>\n",
       "    <tr>\n",
       "      <th>3</th>\n",
       "      <td>65a0837f1824a1bb36f2b6e0</td>\n",
       "      <td>3</td>\n",
       "      <td>8480860</td>\n",
       "      <td>2022</td>\n",
       "      <td>Kevin Bahl</td>\n",
       "      <td>NJD</td>\n",
       "      <td>D</td>\n",
       "      <td>all</td>\n",
       "      <td>42</td>\n",
       "      <td>14.02</td>\n",
       "      <td>...</td>\n",
       "      <td>1</td>\n",
       "      <td>0</td>\n",
       "      <td>1.13</td>\n",
       "      <td>0.08</td>\n",
       "      <td>0.00</td>\n",
       "      <td>1</td>\n",
       "      <td>1</td>\n",
       "      <td>0</td>\n",
       "      <td>47</td>\n",
       "      <td>3rd pair</td>\n",
       "    </tr>\n",
       "    <tr>\n",
       "      <th>4</th>\n",
       "      <td>65a0837f1824a1bb36f2b6e1</td>\n",
       "      <td>4</td>\n",
       "      <td>8477952</td>\n",
       "      <td>2022</td>\n",
       "      <td>Robby Fabbri</td>\n",
       "      <td>DET</td>\n",
       "      <td>C</td>\n",
       "      <td>all</td>\n",
       "      <td>28</td>\n",
       "      <td>16.00</td>\n",
       "      <td>...</td>\n",
       "      <td>14</td>\n",
       "      <td>10</td>\n",
       "      <td>1.07</td>\n",
       "      <td>1.73</td>\n",
       "      <td>4.02</td>\n",
       "      <td>1</td>\n",
       "      <td>2</td>\n",
       "      <td>4</td>\n",
       "      <td>53</td>\n",
       "      <td>2nd line</td>\n",
       "    </tr>\n",
       "  </tbody>\n",
       "</table>\n",
       "<p>5 rows × 36 columns</p>\n",
       "</div>"
      ],
      "text/plain": [
       "                        _id     playerId  season             name team  \\\n",
       "0  65a0837f1824a1bb36f2b6dd  0   8471817    2022      Ryan Reaves  MIN   \n",
       "1  65a0837f1824a1bb36f2b6de  1   8480950    2022  Ilya Lyubushkin  BUF   \n",
       "2  65a0837f1824a1bb36f2b6df  2   8475625    2022       Matt Irwin  WSH   \n",
       "3  65a0837f1824a1bb36f2b6e0  3   8480860    2022       Kevin Bahl  NJD   \n",
       "4  65a0837f1824a1bb36f2b6e1  4   8477952    2022     Robby Fabbri  DET   \n",
       "\n",
       "  position situation  games_played  minutes/game  ...  I_F_mediumDangerShots  \\\n",
       "0        R       all            73          9.32  ...                     29   \n",
       "1        D       all            68         15.01  ...                      2   \n",
       "2        D       all            61         13.04  ...                      5   \n",
       "3        D       all            42         14.02  ...                      1   \n",
       "4        C       all            28         16.00  ...                     14   \n",
       "\n",
       "   I_F_highDangerShots  I_F_lowDangerxGoals  I_F_mediumDangerxGoals  \\\n",
       "0                    7                 1.16                    3.58   \n",
       "1                    0                 1.09                    0.28   \n",
       "2                    0                 1.98                    0.46   \n",
       "3                    0                 1.13                    0.08   \n",
       "4                   10                 1.07                    1.73   \n",
       "\n",
       "   I_F_highDangerxGoals  I_F_lowDangerGoals  I_F_mediumDangerGoals  \\\n",
       "0                  1.96                   0                      4   \n",
       "1                  0.00                   1                      1   \n",
       "2                  0.00                   2                      0   \n",
       "3                  0.00                   1                      1   \n",
       "4                  4.02                   1                      2   \n",
       "\n",
       "   I_F_highDangerGoals  I_F_unblockedShotAttempts  Line_or_Pair  \n",
       "0                    1                         69      3rd line  \n",
       "1                    0                         52      3rd pair  \n",
       "2                    0                        102      3rd pair  \n",
       "3                    0                         47      3rd pair  \n",
       "4                    4                         53      2nd line  \n",
       "\n",
       "[5 rows x 36 columns]"
      ]
     },
     "execution_count": 68,
     "metadata": {},
     "output_type": "execute_result"
    }
   ],
   "source": [
    "df_2022.head()"
   ]
  },
  {
   "cell_type": "code",
   "execution_count": 69,
   "metadata": {},
   "outputs": [
    {
     "data": {
      "text/html": [
       "<div>\n",
       "<style scoped>\n",
       "    .dataframe tbody tr th:only-of-type {\n",
       "        vertical-align: middle;\n",
       "    }\n",
       "\n",
       "    .dataframe tbody tr th {\n",
       "        vertical-align: top;\n",
       "    }\n",
       "\n",
       "    .dataframe thead th {\n",
       "        text-align: right;\n",
       "    }\n",
       "</style>\n",
       "<table border=\"1\" class=\"dataframe\">\n",
       "  <thead>\n",
       "    <tr style=\"text-align: right;\">\n",
       "      <th></th>\n",
       "      <th>position</th>\n",
       "      <th>games_played</th>\n",
       "      <th>minutes/game</th>\n",
       "      <th>I_F_xOnGoal</th>\n",
       "      <th>I_F_xGoals</th>\n",
       "      <th>I_F_xRebounds</th>\n",
       "      <th>I_F_primaryAssists</th>\n",
       "      <th>I_F_secondaryAssists</th>\n",
       "      <th>I_F_shotAttempts</th>\n",
       "      <th>I_F_points</th>\n",
       "      <th>...</th>\n",
       "      <th>I_F_mediumDangerShots</th>\n",
       "      <th>I_F_highDangerShots</th>\n",
       "      <th>I_F_lowDangerxGoals</th>\n",
       "      <th>I_F_mediumDangerxGoals</th>\n",
       "      <th>I_F_highDangerxGoals</th>\n",
       "      <th>I_F_lowDangerGoals</th>\n",
       "      <th>I_F_mediumDangerGoals</th>\n",
       "      <th>I_F_highDangerGoals</th>\n",
       "      <th>I_F_unblockedShotAttempts</th>\n",
       "      <th>Line_or_Pair</th>\n",
       "    </tr>\n",
       "  </thead>\n",
       "  <tbody>\n",
       "    <tr>\n",
       "      <th>0</th>\n",
       "      <td>R</td>\n",
       "      <td>73</td>\n",
       "      <td>9.32</td>\n",
       "      <td>49.47</td>\n",
       "      <td>6.70</td>\n",
       "      <td>3.80</td>\n",
       "      <td>5</td>\n",
       "      <td>5</td>\n",
       "      <td>79</td>\n",
       "      <td>15</td>\n",
       "      <td>...</td>\n",
       "      <td>29</td>\n",
       "      <td>7</td>\n",
       "      <td>1.16</td>\n",
       "      <td>3.58</td>\n",
       "      <td>1.96</td>\n",
       "      <td>0</td>\n",
       "      <td>4</td>\n",
       "      <td>1</td>\n",
       "      <td>69</td>\n",
       "      <td>3rd line</td>\n",
       "    </tr>\n",
       "    <tr>\n",
       "      <th>1</th>\n",
       "      <td>D</td>\n",
       "      <td>68</td>\n",
       "      <td>15.01</td>\n",
       "      <td>37.10</td>\n",
       "      <td>1.36</td>\n",
       "      <td>1.83</td>\n",
       "      <td>6</td>\n",
       "      <td>6</td>\n",
       "      <td>78</td>\n",
       "      <td>14</td>\n",
       "      <td>...</td>\n",
       "      <td>2</td>\n",
       "      <td>0</td>\n",
       "      <td>1.09</td>\n",
       "      <td>0.28</td>\n",
       "      <td>0.00</td>\n",
       "      <td>1</td>\n",
       "      <td>1</td>\n",
       "      <td>0</td>\n",
       "      <td>52</td>\n",
       "      <td>3rd pair</td>\n",
       "    </tr>\n",
       "    <tr>\n",
       "      <th>2</th>\n",
       "      <td>D</td>\n",
       "      <td>61</td>\n",
       "      <td>13.04</td>\n",
       "      <td>69.79</td>\n",
       "      <td>2.44</td>\n",
       "      <td>3.85</td>\n",
       "      <td>1</td>\n",
       "      <td>2</td>\n",
       "      <td>140</td>\n",
       "      <td>5</td>\n",
       "      <td>...</td>\n",
       "      <td>5</td>\n",
       "      <td>0</td>\n",
       "      <td>1.98</td>\n",
       "      <td>0.46</td>\n",
       "      <td>0.00</td>\n",
       "      <td>2</td>\n",
       "      <td>0</td>\n",
       "      <td>0</td>\n",
       "      <td>102</td>\n",
       "      <td>3rd pair</td>\n",
       "    </tr>\n",
       "    <tr>\n",
       "      <th>3</th>\n",
       "      <td>D</td>\n",
       "      <td>42</td>\n",
       "      <td>14.02</td>\n",
       "      <td>32.17</td>\n",
       "      <td>1.21</td>\n",
       "      <td>1.81</td>\n",
       "      <td>2</td>\n",
       "      <td>4</td>\n",
       "      <td>79</td>\n",
       "      <td>8</td>\n",
       "      <td>...</td>\n",
       "      <td>1</td>\n",
       "      <td>0</td>\n",
       "      <td>1.13</td>\n",
       "      <td>0.08</td>\n",
       "      <td>0.00</td>\n",
       "      <td>1</td>\n",
       "      <td>1</td>\n",
       "      <td>0</td>\n",
       "      <td>47</td>\n",
       "      <td>3rd pair</td>\n",
       "    </tr>\n",
       "    <tr>\n",
       "      <th>4</th>\n",
       "      <td>C</td>\n",
       "      <td>28</td>\n",
       "      <td>16.00</td>\n",
       "      <td>39.69</td>\n",
       "      <td>6.81</td>\n",
       "      <td>2.85</td>\n",
       "      <td>5</td>\n",
       "      <td>4</td>\n",
       "      <td>65</td>\n",
       "      <td>16</td>\n",
       "      <td>...</td>\n",
       "      <td>14</td>\n",
       "      <td>10</td>\n",
       "      <td>1.07</td>\n",
       "      <td>1.73</td>\n",
       "      <td>4.02</td>\n",
       "      <td>1</td>\n",
       "      <td>2</td>\n",
       "      <td>4</td>\n",
       "      <td>53</td>\n",
       "      <td>2nd line</td>\n",
       "    </tr>\n",
       "  </tbody>\n",
       "</table>\n",
       "<p>5 rows × 29 columns</p>\n",
       "</div>"
      ],
      "text/plain": [
       "  position  games_played  minutes/game  I_F_xOnGoal  I_F_xGoals  \\\n",
       "0        R            73          9.32        49.47        6.70   \n",
       "1        D            68         15.01        37.10        1.36   \n",
       "2        D            61         13.04        69.79        2.44   \n",
       "3        D            42         14.02        32.17        1.21   \n",
       "4        C            28         16.00        39.69        6.81   \n",
       "\n",
       "   I_F_xRebounds  I_F_primaryAssists  I_F_secondaryAssists  I_F_shotAttempts  \\\n",
       "0           3.80                   5                     5                79   \n",
       "1           1.83                   6                     6                78   \n",
       "2           3.85                   1                     2               140   \n",
       "3           1.81                   2                     4                79   \n",
       "4           2.85                   5                     4                65   \n",
       "\n",
       "   I_F_points  ...  I_F_mediumDangerShots  I_F_highDangerShots  \\\n",
       "0          15  ...                     29                    7   \n",
       "1          14  ...                      2                    0   \n",
       "2           5  ...                      5                    0   \n",
       "3           8  ...                      1                    0   \n",
       "4          16  ...                     14                   10   \n",
       "\n",
       "   I_F_lowDangerxGoals  I_F_mediumDangerxGoals  I_F_highDangerxGoals  \\\n",
       "0                 1.16                    3.58                  1.96   \n",
       "1                 1.09                    0.28                  0.00   \n",
       "2                 1.98                    0.46                  0.00   \n",
       "3                 1.13                    0.08                  0.00   \n",
       "4                 1.07                    1.73                  4.02   \n",
       "\n",
       "   I_F_lowDangerGoals  I_F_mediumDangerGoals  I_F_highDangerGoals  \\\n",
       "0                   0                      4                    1   \n",
       "1                   1                      1                    0   \n",
       "2                   2                      0                    0   \n",
       "3                   1                      1                    0   \n",
       "4                   1                      2                    4   \n",
       "\n",
       "   I_F_unblockedShotAttempts  Line_or_Pair  \n",
       "0                         69      3rd line  \n",
       "1                         52      3rd pair  \n",
       "2                        102      3rd pair  \n",
       "3                         47      3rd pair  \n",
       "4                         53      2nd line  \n",
       "\n",
       "[5 rows x 29 columns]"
      ]
     },
     "execution_count": 69,
     "metadata": {},
     "output_type": "execute_result"
    }
   ],
   "source": [
    "df_2022.drop(['_id', '', 'playerId','season','name','team','situation'], axis='columns',inplace=True)\n",
    "df_2022.head()"
   ]
  },
  {
   "cell_type": "code",
   "execution_count": 6,
   "metadata": {},
   "outputs": [],
   "source": [
    "df_2022.to_csv('model_2022-2023.csv')"
   ]
  },
  {
   "cell_type": "markdown",
   "metadata": {},
   "source": [
    "# Preparing the Data"
   ]
  },
  {
   "cell_type": "code",
   "execution_count": 70,
   "metadata": {},
   "outputs": [
    {
     "data": {
      "text/html": [
       "<div>\n",
       "<style scoped>\n",
       "    .dataframe tbody tr th:only-of-type {\n",
       "        vertical-align: middle;\n",
       "    }\n",
       "\n",
       "    .dataframe tbody tr th {\n",
       "        vertical-align: top;\n",
       "    }\n",
       "\n",
       "    .dataframe thead th {\n",
       "        text-align: right;\n",
       "    }\n",
       "</style>\n",
       "<table border=\"1\" class=\"dataframe\">\n",
       "  <thead>\n",
       "    <tr style=\"text-align: right;\">\n",
       "      <th></th>\n",
       "      <th>I_F_primaryAssists</th>\n",
       "      <th>I_F_secondaryAssists</th>\n",
       "      <th>I_F_goals</th>\n",
       "      <th>I_F_points</th>\n",
       "    </tr>\n",
       "  </thead>\n",
       "  <tbody>\n",
       "    <tr>\n",
       "      <th>0</th>\n",
       "      <td>5</td>\n",
       "      <td>5</td>\n",
       "      <td>5</td>\n",
       "      <td>15</td>\n",
       "    </tr>\n",
       "    <tr>\n",
       "      <th>1</th>\n",
       "      <td>6</td>\n",
       "      <td>6</td>\n",
       "      <td>2</td>\n",
       "      <td>14</td>\n",
       "    </tr>\n",
       "    <tr>\n",
       "      <th>2</th>\n",
       "      <td>1</td>\n",
       "      <td>2</td>\n",
       "      <td>2</td>\n",
       "      <td>5</td>\n",
       "    </tr>\n",
       "    <tr>\n",
       "      <th>3</th>\n",
       "      <td>2</td>\n",
       "      <td>4</td>\n",
       "      <td>2</td>\n",
       "      <td>8</td>\n",
       "    </tr>\n",
       "    <tr>\n",
       "      <th>4</th>\n",
       "      <td>5</td>\n",
       "      <td>4</td>\n",
       "      <td>7</td>\n",
       "      <td>16</td>\n",
       "    </tr>\n",
       "  </tbody>\n",
       "</table>\n",
       "</div>"
      ],
      "text/plain": [
       "   I_F_primaryAssists  I_F_secondaryAssists  I_F_goals  I_F_points\n",
       "0                   5                     5          5          15\n",
       "1                   6                     6          2          14\n",
       "2                   1                     2          2           5\n",
       "3                   2                     4          2           8\n",
       "4                   5                     4          7          16"
      ]
     },
     "execution_count": 70,
     "metadata": {},
     "output_type": "execute_result"
    }
   ],
   "source": [
    "df_goals_assists = df_2022_no_dummies[['I_F_primaryAssists', 'I_F_secondaryAssists', 'I_F_goals', 'I_F_points']]\n",
    "df_goals_assists.head()"
   ]
  },
  {
   "cell_type": "code",
   "execution_count": 71,
   "metadata": {},
   "outputs": [],
   "source": [
    "#Splitting the data\n",
    "x = df_goals_assists.copy()\n",
    "x.drop('I_F_points', axis=1, inplace=True)\n",
    "X = x.values\n",
    "y = df_goals_assists['I_F_points'].values"
   ]
  },
  {
   "cell_type": "code",
   "execution_count": 72,
   "metadata": {},
   "outputs": [],
   "source": [
    "#further splitting into test and train data\n",
    "X_train, X_test, y_train, y_test = train_test_split(X, y, random_state=42)"
   ]
  },
  {
   "cell_type": "code",
   "execution_count": 73,
   "metadata": {},
   "outputs": [],
   "source": [
    "#creating the scaler variable\n",
    "scaler = StandardScaler()"
   ]
  },
  {
   "cell_type": "code",
   "execution_count": 74,
   "metadata": {},
   "outputs": [],
   "source": [
    "X_scalers = scaler.fit(X_train)"
   ]
  },
  {
   "cell_type": "code",
   "execution_count": 75,
   "metadata": {},
   "outputs": [],
   "source": [
    "# Scaling data\n",
    "X_train_scaled = X_scaler.transform(X_train)\n",
    "X_test_scaled = X_scaler.transform(X_test)"
   ]
  },
  {
   "cell_type": "markdown",
   "metadata": {},
   "source": [
    "# Linear Regression Model"
   ]
  },
  {
   "cell_type": "code",
   "execution_count": 76,
   "metadata": {},
   "outputs": [],
   "source": [
    "linear_model = LinearRegression()"
   ]
  },
  {
   "cell_type": "code",
   "execution_count": 77,
   "metadata": {},
   "outputs": [
    {
     "data": {
      "text/plain": [
       "LinearRegression()"
      ]
     },
     "execution_count": 77,
     "metadata": {},
     "output_type": "execute_result"
    }
   ],
   "source": [
    "# Fit the data into the model\n",
    "linear_model.fit(X_train_scaled, y_train)"
   ]
  },
  {
   "cell_type": "code",
   "execution_count": 78,
   "metadata": {},
   "outputs": [
    {
     "name": "stdout",
     "output_type": "stream",
     "text": [
      "Model's formula: y = 28.337931034482757 + 9.018444569296017X\n"
     ]
    }
   ],
   "source": [
    "# Display the model's best fit line formula\n",
    "print(f\"Model's formula: y = {linear_model.intercept_} + {linear_model.coef_[0]}X\")"
   ]
  },
  {
   "cell_type": "code",
   "execution_count": 79,
   "metadata": {},
   "outputs": [],
   "source": [
    "#Make predictions with the model using X_test_scaled\n",
    "predicted_y_values = linear_model.predict(X_test_scaled)\n"
   ]
  },
  {
   "cell_type": "code",
   "execution_count": 80,
   "metadata": {},
   "outputs": [
    {
     "name": "stdout",
     "output_type": "stream",
     "text": [
      "The score is -159.02207576962874.\n",
      "The r2 is 1.0.\n",
      "The mean squared error is 3.1229132742769953e-30.\n",
      "The root mean squared error is 1.7671766392404002e-15.\n",
      "The standard deviation is 25.81642765917697.\n"
     ]
    }
   ],
   "source": [
    "# Compute metrics for the linear regression model: score, r2, mse, rmse, std\n",
    "score = linear_model.score(X_test, y_test, sample_weight=None)\n",
    "r2 = r2_score(y_test, predicted_y_values)\n",
    "mse = mean_squared_error(y_test, predicted_y_values)\n",
    "rmse = np.sqrt(mse)\n",
    "std = np.std(y_test)\n",
    "\n",
    "# Print relevant metrics.\n",
    "print(f\"The score is {score}.\")\n",
    "print(f\"The r2 is {r2}.\")\n",
    "print(f\"The mean squared error is {mse}.\")\n",
    "print(f\"The root mean squared error is {rmse}.\")\n",
    "print(f\"The standard deviation is {std}.\")"
   ]
  },
  {
   "cell_type": "markdown",
   "metadata": {},
   "source": [
    "# Random Forest"
   ]
  },
  {
   "cell_type": "code",
   "execution_count": 81,
   "metadata": {},
   "outputs": [],
   "source": [
    "# Create a random forest classifier\n",
    "rf_model = RandomForestClassifier(n_estimators=1000, random_state=42)"
   ]
  },
  {
   "cell_type": "code",
   "execution_count": 82,
   "metadata": {},
   "outputs": [],
   "source": [
    "# Fitting the model\n",
    "rf_model = rf_model.fit(X_train_scaled, y_train)"
   ]
  },
  {
   "cell_type": "code",
   "execution_count": 83,
   "metadata": {},
   "outputs": [],
   "source": [
    "# Making predictions using the testing data\n",
    "predictions = rf_model.predict(X_test_scaled)"
   ]
  },
  {
   "cell_type": "code",
   "execution_count": 84,
   "metadata": {},
   "outputs": [
    {
     "name": "stdout",
     "output_type": "stream",
     "text": [
      "The score is 0.0.\n",
      "The r2 is 0.962397135378254.\n",
      "The mean squared error is 25.061855670103093.\n",
      "The root mean squared error is 5.006181745612428.\n",
      "The standard deviation is 25.81642765917697.\n"
     ]
    }
   ],
   "source": [
    "# Compute metrics for the linear regression model: score, r2, mse, rmse, std\n",
    "score = rf_model.score(X_test, y_test, sample_weight=None)\n",
    "r2 = r2_score(y_test, predictions)\n",
    "mse = mean_squared_error(y_test, predictions)\n",
    "rmse = np.sqrt(mse)\n",
    "std = np.std(y_test)\n",
    "\n",
    "# Print relevant metrics.\n",
    "print(f\"The score is {score}.\")\n",
    "print(f\"The r2 is {r2}.\")\n",
    "print(f\"The mean squared error is {mse}.\")\n",
    "print(f\"The root mean squared error is {rmse}.\")\n",
    "print(f\"The standard deviation is {std}.\")"
   ]
  },
  {
   "cell_type": "code",
   "execution_count": 85,
   "metadata": {},
   "outputs": [
    {
     "ename": "AttributeError",
     "evalue": "'RandomForestClassifier' object has no attribute 'save'",
     "output_type": "error",
     "traceback": [
      "\u001b[1;31m---------------------------------------------------------------------------\u001b[0m",
      "\u001b[1;31mAttributeError\u001b[0m                            Traceback (most recent call last)",
      "\u001b[1;32m~\\AppData\\Local\\Temp\\ipykernel_24768\\309624783.py\u001b[0m in \u001b[0;36m<module>\u001b[1;34m\u001b[0m\n\u001b[0;32m      1\u001b[0m \u001b[1;31m#saving the model\u001b[0m\u001b[1;33m\u001b[0m\u001b[1;33m\u001b[0m\u001b[1;33m\u001b[0m\u001b[0m\n\u001b[1;32m----> 2\u001b[1;33m \u001b[0mrf_model\u001b[0m\u001b[1;33m.\u001b[0m\u001b[0msave\u001b[0m\u001b[1;33m(\u001b[0m\u001b[1;34m'final_rf_model.h5'\u001b[0m\u001b[1;33m)\u001b[0m\u001b[1;33m\u001b[0m\u001b[1;33m\u001b[0m\u001b[0m\n\u001b[0m",
      "\u001b[1;31mAttributeError\u001b[0m: 'RandomForestClassifier' object has no attribute 'save'"
     ]
    }
   ],
   "source": [
    "#saving the model\n",
    "rf_model.save('final_rf_model.h5')"
   ]
  },
  {
   "cell_type": "code",
   "execution_count": null,
   "metadata": {},
   "outputs": [],
   "source": []
  }
 ],
 "metadata": {
  "kernelspec": {
   "display_name": "PythonData",
   "language": "python",
   "name": "python3"
  },
  "language_info": {
   "codemirror_mode": {
    "name": "ipython",
    "version": 3
   },
   "file_extension": ".py",
   "mimetype": "text/x-python",
   "name": "python",
   "nbconvert_exporter": "python",
   "pygments_lexer": "ipython3",
   "version": "3.7.7"
  }
 },
 "nbformat": 4,
 "nbformat_minor": 2
}
