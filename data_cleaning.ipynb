{
 "cells": [
  {
   "cell_type": "code",
   "execution_count": 1,
   "metadata": {},
   "outputs": [],
   "source": [
    "import pandas as pd\n",
    "from pymongo import MongoClient\n",
    "import seaborn as sns\n",
    "import numpy as np\n",
    "import matplotlib.pyplot as plt"
   ]
  },
  {
   "cell_type": "code",
   "execution_count": 2,
   "metadata": {},
   "outputs": [
    {
     "data": {
      "text/plain": [
       "['2023-2024', '2022-2023']"
      ]
     },
     "execution_count": 2,
     "metadata": {},
     "output_type": "execute_result"
    }
   ],
   "source": [
    "#Createing the connection to the database part 1\n",
    "mongo = MongoClient(port=27017)\n",
    "db = mongo['hockey_project_db']\n",
    "db.list_collection_names()"
   ]
  },
  {
   "cell_type": "code",
   "execution_count": 9,
   "metadata": {},
   "outputs": [],
   "source": [
    "#creating connections part 2: putting it into a dataframe\n",
    "#test and training data\n",
    "data_2022_2023 = db['2022-2023']\n",
    "answer_1 = list(data_2022_2023.find({}))\n",
    "df_2022 = pd.json_normalize(answer_1)\n",
    "\n",
    "#Validation data\n",
    "data_2023_2024 = db['2023-2024']\n",
    "answer_2 = list(data_2023_2024.find({}))\n",
    "df_2023 = pd.json_normalize(answer_2)"
   ]
  },
  {
   "cell_type": "markdown",
   "metadata": {},
   "source": [
    "# Exploratory Analysis"
   ]
  },
  {
   "cell_type": "code",
   "execution_count": 4,
   "metadata": {},
   "outputs": [
    {
     "data": {
      "text/html": [
       "<div>\n",
       "<style scoped>\n",
       "    .dataframe tbody tr th:only-of-type {\n",
       "        vertical-align: middle;\n",
       "    }\n",
       "\n",
       "    .dataframe tbody tr th {\n",
       "        vertical-align: top;\n",
       "    }\n",
       "\n",
       "    .dataframe thead th {\n",
       "        text-align: right;\n",
       "    }\n",
       "</style>\n",
       "<table border=\"1\" class=\"dataframe\">\n",
       "  <thead>\n",
       "    <tr style=\"text-align: right;\">\n",
       "      <th></th>\n",
       "      <th>_id</th>\n",
       "      <th>playerId</th>\n",
       "      <th>season</th>\n",
       "      <th>name</th>\n",
       "      <th>team</th>\n",
       "      <th>position</th>\n",
       "      <th>situation</th>\n",
       "      <th>games_played</th>\n",
       "      <th>minutes/game</th>\n",
       "      <th>I_F_xOnGoal</th>\n",
       "      <th>...</th>\n",
       "      <th>I_F_lowDangerShots</th>\n",
       "      <th>I_F_mediumDangerShots</th>\n",
       "      <th>I_F_highDangerShots</th>\n",
       "      <th>I_F_lowDangerxGoals</th>\n",
       "      <th>I_F_mediumDangerxGoals</th>\n",
       "      <th>I_F_highDangerxGoals</th>\n",
       "      <th>I_F_lowDangerGoals</th>\n",
       "      <th>I_F_mediumDangerGoals</th>\n",
       "      <th>I_F_highDangerGoals</th>\n",
       "      <th>I_F_unblockedShotAttempts</th>\n",
       "    </tr>\n",
       "  </thead>\n",
       "  <tbody>\n",
       "    <tr>\n",
       "      <th>0</th>\n",
       "      <td>65a5c4b5937234bb37b2f61b</td>\n",
       "      <td>8471817</td>\n",
       "      <td>2022</td>\n",
       "      <td>Ryan Reaves</td>\n",
       "      <td>MIN</td>\n",
       "      <td>R</td>\n",
       "      <td>all</td>\n",
       "      <td>73</td>\n",
       "      <td>9.32</td>\n",
       "      <td>49.47</td>\n",
       "      <td>...</td>\n",
       "      <td>33</td>\n",
       "      <td>29</td>\n",
       "      <td>7</td>\n",
       "      <td>1.16</td>\n",
       "      <td>3.58</td>\n",
       "      <td>1.96</td>\n",
       "      <td>0</td>\n",
       "      <td>4</td>\n",
       "      <td>1</td>\n",
       "      <td>69</td>\n",
       "    </tr>\n",
       "    <tr>\n",
       "      <th>1</th>\n",
       "      <td>65a5c4b5937234bb37b2f61c</td>\n",
       "      <td>8480950</td>\n",
       "      <td>2022</td>\n",
       "      <td>Ilya Lyubushkin</td>\n",
       "      <td>BUF</td>\n",
       "      <td>D</td>\n",
       "      <td>all</td>\n",
       "      <td>68</td>\n",
       "      <td>15.01</td>\n",
       "      <td>37.10</td>\n",
       "      <td>...</td>\n",
       "      <td>50</td>\n",
       "      <td>2</td>\n",
       "      <td>0</td>\n",
       "      <td>1.09</td>\n",
       "      <td>0.28</td>\n",
       "      <td>0.00</td>\n",
       "      <td>1</td>\n",
       "      <td>1</td>\n",
       "      <td>0</td>\n",
       "      <td>52</td>\n",
       "    </tr>\n",
       "    <tr>\n",
       "      <th>2</th>\n",
       "      <td>65a5c4b5937234bb37b2f61d</td>\n",
       "      <td>8475625</td>\n",
       "      <td>2022</td>\n",
       "      <td>Matt Irwin</td>\n",
       "      <td>WSH</td>\n",
       "      <td>D</td>\n",
       "      <td>all</td>\n",
       "      <td>61</td>\n",
       "      <td>13.04</td>\n",
       "      <td>69.79</td>\n",
       "      <td>...</td>\n",
       "      <td>97</td>\n",
       "      <td>5</td>\n",
       "      <td>0</td>\n",
       "      <td>1.98</td>\n",
       "      <td>0.46</td>\n",
       "      <td>0.00</td>\n",
       "      <td>2</td>\n",
       "      <td>0</td>\n",
       "      <td>0</td>\n",
       "      <td>102</td>\n",
       "    </tr>\n",
       "    <tr>\n",
       "      <th>3</th>\n",
       "      <td>65a5c4b5937234bb37b2f61e</td>\n",
       "      <td>8480860</td>\n",
       "      <td>2022</td>\n",
       "      <td>Kevin Bahl</td>\n",
       "      <td>NJD</td>\n",
       "      <td>D</td>\n",
       "      <td>all</td>\n",
       "      <td>42</td>\n",
       "      <td>14.02</td>\n",
       "      <td>32.17</td>\n",
       "      <td>...</td>\n",
       "      <td>46</td>\n",
       "      <td>1</td>\n",
       "      <td>0</td>\n",
       "      <td>1.13</td>\n",
       "      <td>0.08</td>\n",
       "      <td>0.00</td>\n",
       "      <td>1</td>\n",
       "      <td>1</td>\n",
       "      <td>0</td>\n",
       "      <td>47</td>\n",
       "    </tr>\n",
       "    <tr>\n",
       "      <th>4</th>\n",
       "      <td>65a5c4b5937234bb37b2f61f</td>\n",
       "      <td>8477952</td>\n",
       "      <td>2022</td>\n",
       "      <td>Robby Fabbri</td>\n",
       "      <td>DET</td>\n",
       "      <td>C</td>\n",
       "      <td>all</td>\n",
       "      <td>28</td>\n",
       "      <td>16.00</td>\n",
       "      <td>39.69</td>\n",
       "      <td>...</td>\n",
       "      <td>29</td>\n",
       "      <td>14</td>\n",
       "      <td>10</td>\n",
       "      <td>1.07</td>\n",
       "      <td>1.73</td>\n",
       "      <td>4.02</td>\n",
       "      <td>1</td>\n",
       "      <td>2</td>\n",
       "      <td>4</td>\n",
       "      <td>53</td>\n",
       "    </tr>\n",
       "  </tbody>\n",
       "</table>\n",
       "<p>5 rows × 34 columns</p>\n",
       "</div>"
      ],
      "text/plain": [
       "                        _id  playerId  season             name team position  \\\n",
       "0  65a5c4b5937234bb37b2f61b   8471817    2022      Ryan Reaves  MIN        R   \n",
       "1  65a5c4b5937234bb37b2f61c   8480950    2022  Ilya Lyubushkin  BUF        D   \n",
       "2  65a5c4b5937234bb37b2f61d   8475625    2022       Matt Irwin  WSH        D   \n",
       "3  65a5c4b5937234bb37b2f61e   8480860    2022       Kevin Bahl  NJD        D   \n",
       "4  65a5c4b5937234bb37b2f61f   8477952    2022     Robby Fabbri  DET        C   \n",
       "\n",
       "  situation  games_played  minutes/game  I_F_xOnGoal  ...  I_F_lowDangerShots  \\\n",
       "0       all            73          9.32        49.47  ...                  33   \n",
       "1       all            68         15.01        37.10  ...                  50   \n",
       "2       all            61         13.04        69.79  ...                  97   \n",
       "3       all            42         14.02        32.17  ...                  46   \n",
       "4       all            28         16.00        39.69  ...                  29   \n",
       "\n",
       "   I_F_mediumDangerShots  I_F_highDangerShots  I_F_lowDangerxGoals  \\\n",
       "0                     29                    7                 1.16   \n",
       "1                      2                    0                 1.09   \n",
       "2                      5                    0                 1.98   \n",
       "3                      1                    0                 1.13   \n",
       "4                     14                   10                 1.07   \n",
       "\n",
       "   I_F_mediumDangerxGoals  I_F_highDangerxGoals  I_F_lowDangerGoals  \\\n",
       "0                    3.58                  1.96                   0   \n",
       "1                    0.28                  0.00                   1   \n",
       "2                    0.46                  0.00                   2   \n",
       "3                    0.08                  0.00                   1   \n",
       "4                    1.73                  4.02                   1   \n",
       "\n",
       "   I_F_mediumDangerGoals  I_F_highDangerGoals  I_F_unblockedShotAttempts  \n",
       "0                      4                    1                         69  \n",
       "1                      1                    0                         52  \n",
       "2                      0                    0                        102  \n",
       "3                      1                    0                         47  \n",
       "4                      2                    4                         53  \n",
       "\n",
       "[5 rows x 34 columns]"
      ]
     },
     "execution_count": 4,
     "metadata": {},
     "output_type": "execute_result"
    }
   ],
   "source": [
    "df_2022.head()"
   ]
  },
  {
   "cell_type": "code",
   "execution_count": 5,
   "metadata": {},
   "outputs": [
    {
     "name": "stdout",
     "output_type": "stream",
     "text": [
      "<class 'pandas.core.frame.DataFrame'>\n",
      "RangeIndex: 774 entries, 0 to 773\n",
      "Data columns (total 34 columns):\n",
      " #   Column                     Non-Null Count  Dtype  \n",
      "---  ------                     --------------  -----  \n",
      " 0   _id                        774 non-null    object \n",
      " 1   playerId                   774 non-null    int64  \n",
      " 2   season                     774 non-null    int64  \n",
      " 3   name                       774 non-null    object \n",
      " 4   team                       774 non-null    object \n",
      " 5   position                   774 non-null    object \n",
      " 6   situation                  774 non-null    object \n",
      " 7   games_played               774 non-null    int64  \n",
      " 8   minutes/game               774 non-null    float64\n",
      " 9   I_F_xOnGoal                774 non-null    float64\n",
      " 10  I_F_xGoals                 774 non-null    float64\n",
      " 11  I_F_xRebounds              774 non-null    float64\n",
      " 12  I_F_primaryAssists         774 non-null    int64  \n",
      " 13  I_F_secondaryAssists       774 non-null    int64  \n",
      " 14  I_F_shotAttempts           774 non-null    int64  \n",
      " 15  I_F_points                 774 non-null    int64  \n",
      " 16  I_F_goals                  774 non-null    int64  \n",
      " 17  I_F_rebounds               774 non-null    int64  \n",
      " 18  I_F_reboundGoals           774 non-null    int64  \n",
      " 19  penalties                  774 non-null    int64  \n",
      " 20  I_F_penalityMinutes        774 non-null    int64  \n",
      " 21  I_F_hits                   774 non-null    int64  \n",
      " 22  I_F_takeaways              774 non-null    int64  \n",
      " 23  I_F_giveaways              774 non-null    int64  \n",
      " 24  I_F_lowDangerShots         774 non-null    int64  \n",
      " 25  I_F_mediumDangerShots      774 non-null    int64  \n",
      " 26  I_F_highDangerShots        774 non-null    int64  \n",
      " 27  I_F_lowDangerxGoals        774 non-null    float64\n",
      " 28  I_F_mediumDangerxGoals     774 non-null    float64\n",
      " 29  I_F_highDangerxGoals       774 non-null    float64\n",
      " 30  I_F_lowDangerGoals         774 non-null    int64  \n",
      " 31  I_F_mediumDangerGoals      774 non-null    int64  \n",
      " 32  I_F_highDangerGoals        774 non-null    int64  \n",
      " 33  I_F_unblockedShotAttempts  774 non-null    int64  \n",
      "dtypes: float64(7), int64(22), object(5)\n",
      "memory usage: 205.7+ KB\n"
     ]
    }
   ],
   "source": [
    "df_2022.info()"
   ]
  },
  {
   "cell_type": "code",
   "execution_count": null,
   "metadata": {},
   "outputs": [],
   "source": [
    "df_2022.describe()"
   ]
  },
  {
   "cell_type": "code",
   "execution_count": null,
   "metadata": {},
   "outputs": [],
   "source": [
    "sns.pairplot(data = df_2022,\n",
    "             x_vars= ['I_F_points'])"
   ]
  },
  {
   "cell_type": "code",
   "execution_count": null,
   "metadata": {},
   "outputs": [],
   "source": [
    "corr = df_2022.corr()\n",
    "corr.style.background_gradient(cmap='coolwarm')"
   ]
  },
  {
   "cell_type": "code",
   "execution_count": 7,
   "metadata": {},
   "outputs": [
    {
     "name": "stdout",
     "output_type": "stream",
     "text": [
      "<class 'pandas.core.frame.DataFrame'>\n",
      "RangeIndex: 811 entries, 0 to 810\n",
      "Data columns (total 33 columns):\n",
      " #   Column                     Non-Null Count  Dtype  \n",
      "---  ------                     --------------  -----  \n",
      " 0   _id                        811 non-null    object \n",
      " 1   playerId                   811 non-null    int64  \n",
      " 2   season                     811 non-null    int64  \n",
      " 3   name                       811 non-null    object \n",
      " 4   team                       811 non-null    object \n",
      " 5   position                   811 non-null    object \n",
      " 6   situation                  811 non-null    object \n",
      " 7   games_played               811 non-null    int64  \n",
      " 8   minutes/game               811 non-null    float64\n",
      " 9   I_F_xOnGoal                811 non-null    float64\n",
      " 10  I_F_xGoals                 811 non-null    float64\n",
      " 11  I_F_xRebounds              811 non-null    float64\n",
      " 12  I_F_primaryAssists         811 non-null    int64  \n",
      " 13  I_F_secondaryAssists       811 non-null    int64  \n",
      " 14  I_F_shotAttempts           811 non-null    int64  \n",
      " 15  I_F_points                 811 non-null    int64  \n",
      " 16  I_F_goals                  811 non-null    int64  \n",
      " 17  I_F_rebounds               811 non-null    int64  \n",
      " 18  penalties                  811 non-null    int64  \n",
      " 19  I_F_penalityMinutes        811 non-null    int64  \n",
      " 20  I_F_hits                   811 non-null    int64  \n",
      " 21  I_F_takeaways              811 non-null    int64  \n",
      " 22  I_F_giveaways              811 non-null    int64  \n",
      " 23  I_F_lowDangerShots         811 non-null    int64  \n",
      " 24  I_F_mediumDangerShots      811 non-null    int64  \n",
      " 25  I_F_highDangerShots        811 non-null    int64  \n",
      " 26  I_F_lowDangerxGoals        811 non-null    float64\n",
      " 27  I_F_mediumDangerxGoals     811 non-null    float64\n",
      " 28  I_F_highDangerxGoals       811 non-null    float64\n",
      " 29  I_F_lowDangerGoals         811 non-null    int64  \n",
      " 30  I_F_mediumDangerGoals      811 non-null    int64  \n",
      " 31  I_F_highDangerGoals        811 non-null    int64  \n",
      " 32  I_F_unblockedShotAttempts  811 non-null    int64  \n",
      "dtypes: float64(7), int64(21), object(5)\n",
      "memory usage: 209.2+ KB\n"
     ]
    }
   ],
   "source": [
    "df_2023.info()"
   ]
  },
  {
   "cell_type": "markdown",
   "metadata": {},
   "source": [
    "# Cleaning the Data via dropping low corelated columns"
   ]
  },
  {
   "cell_type": "code",
   "execution_count": 10,
   "metadata": {},
   "outputs": [],
   "source": [
    "df_2022.drop(['_id', 'playerId', 'season', 'name', 'team', 'situation', 'position', 'games_played', 'I_F_hits', 'penalties', 'I_F_penalityMinutes', 'I_F_goals', 'I_F_secondaryAssists', 'I_F_primaryAssists', 'I_F_reboundGoals'], axis='columns',inplace=True)\n",
    "df_2023.drop(['_id', 'playerId', 'season', 'team', 'situation', 'position', 'games_played', 'I_F_hits', 'penalties', 'I_F_penalityMinutes', 'I_F_goals', 'I_F_secondaryAssists', 'I_F_primaryAssists'], axis='columns',inplace=True)"
   ]
  },
  {
   "cell_type": "code",
   "execution_count": null,
   "metadata": {},
   "outputs": [],
   "source": [
    "corr = df_2022.corr()\n",
    "corr.style.background_gradient(cmap='coolwarm')"
   ]
  },
  {
   "cell_type": "code",
   "execution_count": 11,
   "metadata": {},
   "outputs": [
    {
     "name": "stdout",
     "output_type": "stream",
     "text": [
      "<class 'pandas.core.frame.DataFrame'>\n",
      "RangeIndex: 774 entries, 0 to 773\n",
      "Data columns (total 19 columns):\n",
      " #   Column                     Non-Null Count  Dtype  \n",
      "---  ------                     --------------  -----  \n",
      " 0   minutes/game               774 non-null    float64\n",
      " 1   I_F_xOnGoal                774 non-null    float64\n",
      " 2   I_F_xGoals                 774 non-null    float64\n",
      " 3   I_F_xRebounds              774 non-null    float64\n",
      " 4   I_F_shotAttempts           774 non-null    int64  \n",
      " 5   I_F_points                 774 non-null    int64  \n",
      " 6   I_F_rebounds               774 non-null    int64  \n",
      " 7   I_F_takeaways              774 non-null    int64  \n",
      " 8   I_F_giveaways              774 non-null    int64  \n",
      " 9   I_F_lowDangerShots         774 non-null    int64  \n",
      " 10  I_F_mediumDangerShots      774 non-null    int64  \n",
      " 11  I_F_highDangerShots        774 non-null    int64  \n",
      " 12  I_F_lowDangerxGoals        774 non-null    float64\n",
      " 13  I_F_mediumDangerxGoals     774 non-null    float64\n",
      " 14  I_F_highDangerxGoals       774 non-null    float64\n",
      " 15  I_F_lowDangerGoals         774 non-null    int64  \n",
      " 16  I_F_mediumDangerGoals      774 non-null    int64  \n",
      " 17  I_F_highDangerGoals        774 non-null    int64  \n",
      " 18  I_F_unblockedShotAttempts  774 non-null    int64  \n",
      "dtypes: float64(7), int64(12)\n",
      "memory usage: 115.0 KB\n"
     ]
    }
   ],
   "source": [
    "df_2022.info()"
   ]
  },
  {
   "cell_type": "code",
   "execution_count": 12,
   "metadata": {},
   "outputs": [
    {
     "name": "stdout",
     "output_type": "stream",
     "text": [
      "<class 'pandas.core.frame.DataFrame'>\n",
      "RangeIndex: 811 entries, 0 to 810\n",
      "Data columns (total 20 columns):\n",
      " #   Column                     Non-Null Count  Dtype  \n",
      "---  ------                     --------------  -----  \n",
      " 0   name                       811 non-null    object \n",
      " 1   minutes/game               811 non-null    float64\n",
      " 2   I_F_xOnGoal                811 non-null    float64\n",
      " 3   I_F_xGoals                 811 non-null    float64\n",
      " 4   I_F_xRebounds              811 non-null    float64\n",
      " 5   I_F_shotAttempts           811 non-null    int64  \n",
      " 6   I_F_points                 811 non-null    int64  \n",
      " 7   I_F_rebounds               811 non-null    int64  \n",
      " 8   I_F_takeaways              811 non-null    int64  \n",
      " 9   I_F_giveaways              811 non-null    int64  \n",
      " 10  I_F_lowDangerShots         811 non-null    int64  \n",
      " 11  I_F_mediumDangerShots      811 non-null    int64  \n",
      " 12  I_F_highDangerShots        811 non-null    int64  \n",
      " 13  I_F_lowDangerxGoals        811 non-null    float64\n",
      " 14  I_F_mediumDangerxGoals     811 non-null    float64\n",
      " 15  I_F_highDangerxGoals       811 non-null    float64\n",
      " 16  I_F_lowDangerGoals         811 non-null    int64  \n",
      " 17  I_F_mediumDangerGoals      811 non-null    int64  \n",
      " 18  I_F_highDangerGoals        811 non-null    int64  \n",
      " 19  I_F_unblockedShotAttempts  811 non-null    int64  \n",
      "dtypes: float64(7), int64(12), object(1)\n",
      "memory usage: 126.8+ KB\n"
     ]
    }
   ],
   "source": [
    "df_2023.info()"
   ]
  },
  {
   "cell_type": "code",
   "execution_count": 14,
   "metadata": {},
   "outputs": [],
   "source": [
    "#Creating the .csvs to be used in the mongoDB df\n",
    "df_2022.to_csv('data/model_2022-2023.csv')\n",
    "df_2023.to_csv('data/model_2023-2024.csv')"
   ]
  }
 ],
 "metadata": {
  "kernelspec": {
   "display_name": "PythonData",
   "language": "python",
   "name": "python3"
  },
  "language_info": {
   "codemirror_mode": {
    "name": "ipython",
    "version": 3
   },
   "file_extension": ".py",
   "mimetype": "text/x-python",
   "name": "python",
   "nbconvert_exporter": "python",
   "pygments_lexer": "ipython3",
   "version": "3.7.7"
  }
 },
 "nbformat": 4,
 "nbformat_minor": 2
}
