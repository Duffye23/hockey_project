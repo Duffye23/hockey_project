{
 "cells": [
  {
   "cell_type": "code",
   "execution_count": 2,
   "metadata": {},
   "outputs": [],
   "source": [
    "import pandas as pd\n",
    "from pymongo import MongoClient\n",
    "import seaborn as sns\n",
    "import numpy as np\n",
    "import matplotlib.pyplot as plt"
   ]
  },
  {
   "cell_type": "code",
   "execution_count": 3,
   "metadata": {},
   "outputs": [
    {
     "data": {
      "text/plain": [
       "['2023-2024', '2022-2023']"
      ]
     },
     "execution_count": 3,
     "metadata": {},
     "output_type": "execute_result"
    }
   ],
   "source": [
    "#Createing the connection to the database part 1\n",
    "mongo = MongoClient(port=27017)\n",
    "db = mongo['hockey_project_db']\n",
    "db.list_collection_names()"
   ]
  },
  {
   "cell_type": "code",
   "execution_count": 5,
   "metadata": {},
   "outputs": [],
   "source": [
    "#creating connections part 2: putting it into a dataframe\n",
    "#test and training data\n",
    "data_2022_2023 = db['2022-2023']\n",
    "answer_1 = list(data_2022_2023.find({}))\n",
    "df_2022 = pd.json_normalize(answer_1)\n",
    "\n",
    "#Validation data\n",
    "data_2023_2024 = db['2023-2024']\n",
    "answer_2 = list(data_2023_2024.find({}))\n",
    "df_2023 = pd.json_normalize(answer_2)"
   ]
  },
  {
   "cell_type": "markdown",
   "metadata": {},
   "source": [
    "# Exploratory Analysis"
   ]
  },
  {
   "cell_type": "code",
   "execution_count": null,
   "metadata": {},
   "outputs": [],
   "source": [
    "df_2022.head()"
   ]
  },
  {
   "cell_type": "code",
   "execution_count": null,
   "metadata": {},
   "outputs": [],
   "source": [
    "df_2022.info()"
   ]
  },
  {
   "cell_type": "code",
   "execution_count": null,
   "metadata": {},
   "outputs": [],
   "source": [
    "df_2022.describe()"
   ]
  },
  {
   "cell_type": "code",
   "execution_count": null,
   "metadata": {},
   "outputs": [],
   "source": [
    "sns.pairplot(data = df_2022,\n",
    "             x_vars= ['I_F_points'])"
   ]
  },
  {
   "cell_type": "code",
   "execution_count": null,
   "metadata": {},
   "outputs": [],
   "source": [
    "corr = df_2022.corr()\n",
    "corr.style.background_gradient(cmap='coolwarm')"
   ]
  },
  {
   "cell_type": "markdown",
   "metadata": {},
   "source": [
    "# Cleaning the Data via dropping low corelated columns"
   ]
  },
  {
   "cell_type": "code",
   "execution_count": null,
   "metadata": {},
   "outputs": [],
   "source": [
    "df_2022.drop(['_id', 'playerId', 'season', 'name', 'team', 'situation', 'position', 'games_played', 'I_F_hits', 'penalties', 'I_F_penalityMinutes', 'I_F_goals', 'I_F_secondaryAssists', 'I_F_primaryAssists'], axis='columns',inplace=True)\n",
    "df_2023.drop(['_id', 'playerId', 'season', 'name', 'team', 'situation', 'position', 'games_played', 'I_F_hits', 'penalties', 'I_F_penalityMinutes', 'I_F_goals', 'I_F_secondaryAssists', 'I_F_primaryAssists'], axis='columns',inplace=True)"
   ]
  },
  {
   "cell_type": "code",
   "execution_count": null,
   "metadata": {},
   "outputs": [],
   "source": [
    "corr = df_2022.corr()\n",
    "corr.style.background_gradient(cmap='coolwarm')"
   ]
  },
  {
   "cell_type": "code",
   "execution_count": null,
   "metadata": {},
   "outputs": [],
   "source": [
    "#Creating the .csvs to be used in the mongoDB df\n",
    "df_2022.to_csv('Resources/model_2022-2023.csv')\n",
    "df_2023.to_csv('Resources/model_2023-2024.csv')"
   ]
  }
 ],
 "metadata": {
  "kernelspec": {
   "display_name": "PythonData",
   "language": "python",
   "name": "python3"
  },
  "language_info": {
   "codemirror_mode": {
    "name": "ipython",
    "version": 3
   },
   "file_extension": ".py",
   "mimetype": "text/x-python",
   "name": "python",
   "nbconvert_exporter": "python",
   "pygments_lexer": "ipython3",
   "version": "3.7.7"
  }
 },
 "nbformat": 4,
 "nbformat_minor": 2
}
